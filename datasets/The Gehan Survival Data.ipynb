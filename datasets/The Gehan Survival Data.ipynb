{
 "metadata": {
  "name": "The Gehan Survival Data"
 },
 "nbformat": 3,
 "nbformat_minor": 0,
 "worksheets": [
  {
   "cells": [
    {
     "cell_type": "markdown",
     "metadata": {},
     "source": [
      "<style>\n",
      "    @font-face {\n",
      "        font-family: \"Computer Modern\";\n",
      "        src: url('http://mirrors.ctan.org/fonts/cm-unicode/fonts/otf/cmunss.otf');\n",
      "    }\n",
      "    div.cell{\n",
      "        width:800px;\n",
      "        margin-left:16% !important;\n",
      "        margin-right:auto;\n",
      "    }\n",
      "    h1 {\n",
      "        font-family: Helvetica, serif;\n",
      "    }\n",
      "    h4{\n",
      "        margin-top:12px;\n",
      "        margin-bottom: 3px;\n",
      "       }\n",
      "    div.text_cell_render{\n",
      "        font-family: Computer Modern, \"Helvetica Neue\", Arial, Helvetica, Geneva, sans-serif;\n",
      "        line-height: 145%;\n",
      "        font-size: 130%;\n",
      "        width:800px;\n",
      "        margin-left:auto;\n",
      "        margin-right:auto;\n",
      "    }\n",
      "    .CodeMirror{\n",
      "            font-family: \"Source Code Pro\", source-code-pro,Consolas, monospace;\n",
      "    }\n",
      "    .prompt{\n",
      "        display: None;\n",
      "    }\n",
      "    .text_cell_render h5 {\n",
      "        font-weight: 300;\n",
      "        font-size: 22pt;\n",
      "        color: #4057A1;\n",
      "        font-style: italic;\n",
      "        margin-bottom: .5em;\n",
      "        margin-top: 0.5em;\n",
      "        display: block;\n",
      "    }\n",
      "    \n",
      "    .warning{\n",
      "        color: rgb( 240, 20, 20 )\n",
      "        }  \n",
      "</style>\n",
      "<script>\n",
      "    MathJax.Hub.Config({\n",
      "                        TeX: {\n",
      "                           extensions: [\"AMSmath.js\"]\n",
      "                           },\n",
      "                tex2jax: {\n",
      "                    inlineMath: [ ['$','$'], [\"\\\\(\",\"\\\\)\"] ],\n",
      "                    displayMath: [ ['$$','$$'], [\"\\\\[\",\"\\\\]\"] ]\n",
      "                },\n",
      "                displayAlign: 'center', // Change this to 'center' to center equations.\n",
      "                \"HTML-CSS\": {\n",
      "                    styles: {'.MathJax_Display': {\"margin\": 4}}\n",
      "                }\n",
      "        });\n",
      "</script>"
     ]
    },
    {
     "cell_type": "markdown",
     "metadata": {},
     "source": [
      "# Lifelines examples\n",
      "##### Gehan Survival Dataset\n",
      "\n",
      "The data show the length of remission in weeks for two groups of leukemia patients, treated and control, and were analyzed by Cox in his original proportional hazards paper. The data are available in a file containing three columns:\n",
      "\n",
      "- Treatment: coded Treated (drug) or Control (placebo),\n",
      "- Time: weeks of remission,\n",
      "- Failure: coded 1 if a failure (relapse), 0 if censored\n",
      "\n",
      "Thus, the third and fourth observations, 6 and 6+, corresponding to a death and a censored observation at six weeks, are coded 6, 1 and 6, 0, respectively."
     ]
    },
    {
     "cell_type": "code",
     "collapsed": false,
     "input": [
      "from lifelines.estimation import KaplanMeierFitter, NelsonAalenFitter\n",
      "import pandas as pd\n",
      "import numpy as np\n",
      "%load_ext autoreload\n",
      "%autoreload 2\n",
      "figsize(12.5,6)"
     ],
     "language": "python",
     "metadata": {},
     "outputs": [],
     "prompt_number": 2
    },
    {
     "cell_type": "code",
     "collapsed": false,
     "input": [
      "data = pd.read_csv('datasets/gehan.dat', sep=\"\\s{1,3}\", header=None)"
     ],
     "language": "python",
     "metadata": {},
     "outputs": [],
     "prompt_number": 3
    },
    {
     "cell_type": "code",
     "collapsed": false,
     "input": [
      "data.tail()"
     ],
     "language": "python",
     "metadata": {},
     "outputs": [
      {
       "html": [
        "<div style=\"max-height:1000px;max-width:1500px;overflow:auto;\">\n",
        "<table border=\"1\" class=\"dataframe\">\n",
        "  <thead>\n",
        "    <tr style=\"text-align: right;\">\n",
        "      <th></th>\n",
        "      <th>0</th>\n",
        "      <th>1</th>\n",
        "      <th>2</th>\n",
        "    </tr>\n",
        "  </thead>\n",
        "  <tbody>\n",
        "    <tr>\n",
        "      <th>38</th>\n",
        "      <td>  1</td>\n",
        "      <td> 15</td>\n",
        "      <td>  1</td>\n",
        "    </tr>\n",
        "    <tr>\n",
        "      <th>39</th>\n",
        "      <td>  1</td>\n",
        "      <td> 17</td>\n",
        "      <td>  1</td>\n",
        "    </tr>\n",
        "    <tr>\n",
        "      <th>40</th>\n",
        "      <td>  1</td>\n",
        "      <td> 22</td>\n",
        "      <td>  1</td>\n",
        "    </tr>\n",
        "    <tr>\n",
        "      <th>41</th>\n",
        "      <td>  1</td>\n",
        "      <td> 23</td>\n",
        "      <td>  1</td>\n",
        "    </tr>\n",
        "    <tr>\n",
        "      <th>42</th>\n",
        "      <td>NaN</td>\n",
        "      <td>NaN</td>\n",
        "      <td>NaN</td>\n",
        "    </tr>\n",
        "  </tbody>\n",
        "</table>\n",
        "</div>"
       ],
       "output_type": "pyout",
       "prompt_number": 4,
       "text": [
        "     0   1   2\n",
        "38   1  15   1\n",
        "39   1  17   1\n",
        "40   1  22   1\n",
        "41   1  23   1\n",
        "42 NaN NaN NaN"
       ]
      }
     ],
     "prompt_number": 4
    },
    {
     "cell_type": "code",
     "collapsed": false,
     "input": [
      "data = data.dropna()"
     ],
     "language": "python",
     "metadata": {},
     "outputs": [],
     "prompt_number": 5
    },
    {
     "cell_type": "code",
     "collapsed": false,
     "input": [
      "treatment = data[0] == 2"
     ],
     "language": "python",
     "metadata": {},
     "outputs": [],
     "prompt_number": 6
    },
    {
     "cell_type": "code",
     "collapsed": false,
     "input": [
      "T = data[1].values\n",
      "C = data[2].values\n",
      "t = np.linspace(0,40,150)"
     ],
     "language": "python",
     "metadata": {},
     "outputs": [],
     "prompt_number": 14
    },
    {
     "cell_type": "code",
     "collapsed": false,
     "input": [
      "kmf = KaplanMeierFitter()\n",
      "kmf.fit(T[treatment], timeline=t, censorship=C[treatment], columns=[\"With treatment\"])"
     ],
     "language": "python",
     "metadata": {},
     "outputs": [
      {
       "output_type": "pyout",
       "prompt_number": 34,
       "text": [
        "<lifelines.estimation.KaplanMeierFitter at 0x10ca66a10>"
       ]
      }
     ],
     "prompt_number": 34
    },
    {
     "cell_type": "code",
     "collapsed": false,
     "input": [
      "%load_ext autoreload\n",
      "%autoreload 2"
     ],
     "language": "python",
     "metadata": {},
     "outputs": [],
     "prompt_number": 35
    },
    {
     "cell_type": "code",
     "collapsed": false,
     "input": [
      "kmf.confidence_interval_.tail()"
     ],
     "language": "python",
     "metadata": {},
     "outputs": [
      {
       "html": [
        "<div style=\"max-height:1000px;max-width:1500px;overflow:auto;\">\n",
        "<table border=\"1\" class=\"dataframe\">\n",
        "  <thead>\n",
        "    <tr style=\"text-align: right;\">\n",
        "      <th></th>\n",
        "      <th>upper_bound_0.95</th>\n",
        "      <th>lower_bound_0.95</th>\n",
        "    </tr>\n",
        "  </thead>\n",
        "  <tbody>\n",
        "    <tr>\n",
        "      <th>38.926174</th>\n",
        "      <td> 0.519668</td>\n",
        "      <td> 0.361548</td>\n",
        "    </tr>\n",
        "    <tr>\n",
        "      <th>39.194631</th>\n",
        "      <td> 0.519668</td>\n",
        "      <td> 0.361548</td>\n",
        "    </tr>\n",
        "    <tr>\n",
        "      <th>39.463087</th>\n",
        "      <td> 0.519668</td>\n",
        "      <td> 0.361548</td>\n",
        "    </tr>\n",
        "    <tr>\n",
        "      <th>39.731544</th>\n",
        "      <td> 0.519668</td>\n",
        "      <td> 0.361548</td>\n",
        "    </tr>\n",
        "    <tr>\n",
        "      <th>40.000000</th>\n",
        "      <td> 0.519668</td>\n",
        "      <td> 0.361548</td>\n",
        "    </tr>\n",
        "  </tbody>\n",
        "</table>\n",
        "</div>"
       ],
       "output_type": "pyout",
       "prompt_number": 36,
       "text": [
        "           upper_bound_0.95  lower_bound_0.95\n",
        "38.926174          0.519668          0.361548\n",
        "39.194631          0.519668          0.361548\n",
        "39.463087          0.519668          0.361548\n",
        "39.731544          0.519668          0.361548\n",
        "40.000000          0.519668          0.361548"
       ]
      }
     ],
     "prompt_number": 36
    },
    {
     "cell_type": "code",
     "collapsed": false,
     "input": [
      "ax = kmf.plot()\n",
      "kmf.fit(T[~treatment], timeline=t, censorship=C[~treatment], columns=[\"Without treatment\"])\n",
      "kmf.plot(ax=ax, c=\"r\")\n",
      "ylim(0,1.05)"
     ],
     "language": "python",
     "metadata": {},
     "outputs": [
      {
       "output_type": "pyout",
       "prompt_number": 37,
       "text": [
        "(0, 1.05)"
       ]
      },
      {
       "output_type": "display_data",
       "png": "[encoded data removed]"
      }
     ],
     "prompt_number": 37
    },
    {
     "cell_type": "code",
     "collapsed": false,
     "input": [
      "kmf.survival_function_.tail()"
     ],
     "language": "python",
     "metadata": {},
     "outputs": [
      {
       "html": [
        "<div style=\"max-height:1000px;max-width:1500px;overflow:auto;\">\n",
        "<table border=\"1\" class=\"dataframe\">\n",
        "  <thead>\n",
        "    <tr style=\"text-align: right;\">\n",
        "      <th></th>\n",
        "      <th>Without treatment</th>\n",
        "    </tr>\n",
        "  </thead>\n",
        "  <tbody>\n",
        "    <tr>\n",
        "      <th>38.926174</th>\n",
        "      <td> 0</td>\n",
        "    </tr>\n",
        "    <tr>\n",
        "      <th>39.194631</th>\n",
        "      <td> 0</td>\n",
        "    </tr>\n",
        "    <tr>\n",
        "      <th>39.463087</th>\n",
        "      <td> 0</td>\n",
        "    </tr>\n",
        "    <tr>\n",
        "      <th>39.731544</th>\n",
        "      <td> 0</td>\n",
        "    </tr>\n",
        "    <tr>\n",
        "      <th>40.000000</th>\n",
        "      <td> 0</td>\n",
        "    </tr>\n",
        "  </tbody>\n",
        "</table>\n",
        "</div>"
       ],
       "output_type": "pyout",
       "prompt_number": 33,
       "text": [
        "           Without treatment\n",
        "38.926174                  0\n",
        "39.194631                  0\n",
        "39.463087                  0\n",
        "39.731544                  0\n",
        "40.000000                  0"
       ]
      }
     ],
     "prompt_number": 33
    },
    {
     "cell_type": "markdown",
     "metadata": {},
     "source": [
      "### Hazards, too"
     ]
    },
    {
     "cell_type": "code",
     "collapsed": false,
     "input": [
      "naf = NelsonAalenFitter()"
     ],
     "language": "python",
     "metadata": {},
     "outputs": [],
     "prompt_number": 16
    },
    {
     "cell_type": "code",
     "collapsed": false,
     "input": [
      "naf.fit(T[treatment],timeline=t, censorship=C[treatment], columns=[\"With treatment\"])\n",
      "ax = naf.cumulative_hazard_.plot()\n",
      "naf.fit(T[~treatment], timeline=t, censorship=C[~treatment], columns=[\"Without treatment\"])\n",
      "ax = naf.cumulative_hazard_.plot(ax=ax)"
     ],
     "language": "python",
     "metadata": {},
     "outputs": [
      {
       "output_type": "display_data",
       "png": "[encoded data removed]"
      }
     ],
     "prompt_number": 19
    },
    {
     "cell_type": "markdown",
     "metadata": {},
     "source": [
      "### Try a more complicated model?"
     ]
    },
    {
     "cell_type": "code",
     "collapsed": false,
     "input": [
      "from lifelines.estimation import AalenAdditiveFitter as AAF"
     ],
     "language": "python",
     "metadata": {},
     "outputs": [],
     "prompt_number": 20
    },
    {
     "cell_type": "code",
     "collapsed": false,
     "input": [
      "aaf = AAF()\n",
      "aaf.fit( T[None,:], treatment[:,None], timeline=t, censorship = C[None,:])"
     ],
     "language": "python",
     "metadata": {},
     "outputs": [
      {
       "output_type": "pyout",
       "prompt_number": 24,
       "text": [
        "<lifelines.estimation.AalenAdditiveFitter at 0x10ab65710>"
       ]
      }
     ],
     "prompt_number": 24
    },
    {
     "cell_type": "code",
     "collapsed": false,
     "input": [
      "aaf.cumulative_hazards_.plot()"
     ],
     "language": "python",
     "metadata": {},
     "outputs": [
      {
       "output_type": "pyout",
       "prompt_number": 25,
       "text": [
        "<matplotlib.axes.AxesSubplot at 0x10ac98b90>"
       ]
      },
      {
       "output_type": "display_data",
       "png": "[encoded data removed]"
      }
     ],
     "prompt_number": 25
    }
   ],
   "metadata": {}
  }
 ]
}